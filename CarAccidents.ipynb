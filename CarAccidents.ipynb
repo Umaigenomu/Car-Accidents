{
 "cells": [
  {
   "cell_type": "markdown",
   "metadata": {
    "slideshow": {
     "slide_type": "slide"
    }
   },
   "source": [
    "# Airbags e outras influências em acidentes fatais \n",
    "   ### por Arthur Um, Lucas Lai, e Fernando Chiu\n"
   ]
  },
  {
   "cell_type": "markdown",
   "metadata": {
    "slideshow": {
     "slide_type": "slide"
    }
   },
   "source": [
    "Fonte: National Highway Traffic Safety Administration - uma agência do poder executivo do governo dos EUA, parte do Departamento de Transporte. \n",
    "   - NASSCDS - National Automotive Sampling System e o seu Crashworthiness Data System\n",
    "     - casos selecionados a partir de relatórios de acidentes(batidas) de carro da polícia \n",
    "     - melhorias no design de veículos"
   ]
  },
  {
   "cell_type": "markdown",
   "metadata": {
    "slideshow": {
     "slide_type": "slide"
    }
   },
   "source": [
    "‌‌‌‌‌‌‌‌‌‌‌‌‌‌‌‌‌‌‌‌‌‌‌‌‌\n",
    "‌‌‌‌‌‌‌‌‌‌‌‌‌‌‌‌‌‌‌‌‌‌‌‌‌\n",
    "Dados de 1997-2002 sobre acidentes de carro nos EUA em quais ocorreram algum evento prejudicial às vítimas ou suas propriedades, e em que pelo menos um dos veículos envolvidos teve que ser tirado a guincho. A coleção de dados foi realizada através de um esquema de amostragem multiestágio: a população foi dividida em grupos(clusters) e aleatoriamente selecionadas em etapas posteriores. Os dados estão limitados a apenas os passageiros que sentaram nos bancos dianteiros do carro, entre outras limitações.  \n"
   ]
  },
  {
   "cell_type": "code",
   "execution_count": 1,
   "metadata": {
    "slideshow": {
     "slide_type": "slide"
    }
   },
   "outputs": [
    {
     "name": "stdout",
     "output_type": "stream",
     "text": [
      "'data.frame':\t26217 obs. of  16 variables:\n",
      " $ X          : int  1 2 3 4 5 6 7 8 9 10 ...\n",
      " $ dvcat      : Factor w/ 5 levels \"1-9km/h\",\"10-24\",..: 3 2 2 3 3 4 5 5 2 2 ...\n",
      " $ weight     : num  25.1 25.1 32.4 495.4 25.1 ...\n",
      " $ dead       : Factor w/ 2 levels \"alive\",\"dead\": 1 1 1 1 1 1 1 2 1 1 ...\n",
      " $ airbag     : Factor w/ 2 levels \"airbag\",\"none\": 2 1 2 1 2 2 2 2 2 2 ...\n",
      " $ seatbelt   : Factor w/ 2 levels \"belted\",\"none\": 1 1 2 1 1 1 1 2 1 1 ...\n",
      " $ frontal    : int  1 1 1 1 1 1 1 1 0 1 ...\n",
      " $ sex        : Factor w/ 2 levels \"f\",\"m\": 1 1 1 1 1 1 2 2 2 1 ...\n",
      " $ ageOFocc   : int  26 72 69 53 32 22 22 32 40 18 ...\n",
      " $ yearacc    : int  1997 1997 1997 1997 1997 1997 1997 1997 1997 1997 ...\n",
      " $ yearVeh    : int  1990 1995 1988 1995 1988 1985 1984 1987 1984 1987 ...\n",
      " $ abcat      : Factor w/ 3 levels \"deploy\",\"nodeploy\",..: 3 1 3 1 3 3 3 3 3 3 ...\n",
      " $ occRole    : Factor w/ 2 levels \"driver\",\"pass\": 1 1 1 1 1 1 1 1 1 1 ...\n",
      " $ deploy     : int  0 1 0 1 0 0 0 0 0 0 ...\n",
      " $ injSeverity: int  3 1 4 1 3 3 3 4 1 0 ...\n",
      " $ caseid     : Factor w/ 9409 levels \"11:1:1\",\"11:1:2\",..: 1645 1646 1688 1488 1510 1511 1555 1556 1571 1572 ...\n"
     ]
    }
   ],
   "source": [
    "df<-read.csv(\"Car accidents.csv\")\n",
    "str(df)"
   ]
  },
  {
   "cell_type": "markdown",
   "metadata": {
    "slideshow": {
     "slide_type": "subslide"
    }
   },
   "source": [
    "- X - numeração das observações\n",
    "- dvcat - velocidade do impacto estimado (1-9km/h, 10-24, 25-39, 40-54, 55+). **Quantitativa Discreta** \n",
    "- weight - os pesos das observações, porém com incerteza na precisão dos mesmos. **Quantitativa Contínua**\n",
    "- dead - se a vítima observada faleceu ou não (alive, dead). **Qualitativa Dicotômica**\n",
    "- airbag - se o veículo observado possuía airbag ou não (none, airbag). **Qualitativa Dicotômica**\n",
    "- seatbelt - se a vítima observada estava com cinto ou não (none, belted). **Qualitativa Dicotômica**\n",
    "- frontal - se o impacto da observação foi frontal ou não (numérico;  0 = não frontal, 1=frontal). **Qualitativa Dicotômica**\n",
    "- sex - sexo da vítima observada (f,m). **Qualitativa Dicotômica**\n",
    "- ageOFocc - idade do ocupante da observação em anos. **Quantitativa Contínua** \n",
    "- yearacc - ano em que o acidente ocorreu. **Quantitativa Discreta**\n",
    "- yearVeh - ano do modelo do carro. **Quantitativa Contínua**\n",
    "- abcat - um ou mais airbags foram ativados(seja motorista ou passageiro)? (deploy, nodeploy, unavail). **Qualitativa Nominal**\n",
    "- occRole - papel do ocupante da observação (driver,pass - motorista ou passageiro). **Qualitativa Dicotômica** \n",
    "- deploy - mesmo que abcat, porém numérico (0 caso não houve airbag, 1 caso houve). **Qualitativa Dicotômica** \n",
    "- injSeverity - severidade do ferimento da vítima observada, numérico; 0:nenhum, 1:possivelmente ferido, 2:incapacitação, 3:incapacitado, 4:morto; 5: desconhecido, 6:morte precedente **Qualitativa Ordinal**\n",
    "- caseid - tipo: character; populations sampling unit + case number + vehicle number. Podemos utilizá-lo para identificar o veículo como único em cada ano. \n"
   ]
  },
  {
   "cell_type": "code",
   "execution_count": 2,
   "metadata": {
    "slideshow": {
     "slide_type": "slide"
    }
   },
   "outputs": [
    {
     "data": {
      "text/html": [
       "<dl class=dl-horizontal>\n",
       "\t<dt>dvcat</dt>\n",
       "\t\t<dd>0</dd>\n",
       "\t<dt>weight</dt>\n",
       "\t\t<dd>0</dd>\n",
       "\t<dt>dead</dt>\n",
       "\t\t<dd>0</dd>\n",
       "\t<dt>airbag</dt>\n",
       "\t\t<dd>0</dd>\n",
       "\t<dt>seatbelt</dt>\n",
       "\t\t<dd>0</dd>\n",
       "\t<dt>frontal</dt>\n",
       "\t\t<dd>0</dd>\n",
       "\t<dt>sex</dt>\n",
       "\t\t<dd>0</dd>\n",
       "\t<dt>ageOFocc</dt>\n",
       "\t\t<dd>0</dd>\n",
       "\t<dt>yearacc</dt>\n",
       "\t\t<dd>0</dd>\n",
       "\t<dt>yearVeh</dt>\n",
       "\t\t<dd>1</dd>\n",
       "\t<dt>abcat</dt>\n",
       "\t\t<dd>0</dd>\n",
       "\t<dt>occRole</dt>\n",
       "\t\t<dd>0</dd>\n",
       "\t<dt>deploy</dt>\n",
       "\t\t<dd>0</dd>\n",
       "\t<dt>injSeverity</dt>\n",
       "\t\t<dd>153</dd>\n",
       "</dl>\n"
      ],
      "text/latex": [
       "\\begin{description*}\n",
       "\\item[dvcat] 0\n",
       "\\item[weight] 0\n",
       "\\item[dead] 0\n",
       "\\item[airbag] 0\n",
       "\\item[seatbelt] 0\n",
       "\\item[frontal] 0\n",
       "\\item[sex] 0\n",
       "\\item[ageOFocc] 0\n",
       "\\item[yearacc] 0\n",
       "\\item[yearVeh] 1\n",
       "\\item[abcat] 0\n",
       "\\item[occRole] 0\n",
       "\\item[deploy] 0\n",
       "\\item[injSeverity] 153\n",
       "\\end{description*}\n"
      ],
      "text/markdown": [
       "dvcat\n",
       ":   0weight\n",
       ":   0dead\n",
       ":   0airbag\n",
       ":   0seatbelt\n",
       ":   0frontal\n",
       ":   0sex\n",
       ":   0ageOFocc\n",
       ":   0yearacc\n",
       ":   0yearVeh\n",
       ":   1abcat\n",
       ":   0occRole\n",
       ":   0deploy\n",
       ":   0injSeverity\n",
       ":   153\n",
       "\n"
      ],
      "text/plain": [
       "      dvcat      weight        dead      airbag    seatbelt     frontal \n",
       "          0           0           0           0           0           0 \n",
       "        sex    ageOFocc     yearacc     yearVeh       abcat     occRole \n",
       "          0           0           0           1           0           0 \n",
       "     deploy injSeverity \n",
       "          0         153 "
      ]
     },
     "metadata": {},
     "output_type": "display_data"
    }
   ],
   "source": [
    "# Tiramos as colunas 'X' e 'caseid'\n",
    "df$X<-NULL\n",
    "df$caseid<-NULL\n",
    "# Contamos o no. de na values em cada coluna\n",
    "colSums(is.na(df))"
   ]
  },
  {
   "cell_type": "code",
   "execution_count": 3,
   "metadata": {
    "slideshow": {
     "slide_type": "slide"
    }
   },
   "outputs": [
    {
     "data": {
      "text/plain": [
       "\n",
       " FALSE \n",
       "364882 "
      ]
     },
     "metadata": {},
     "output_type": "display_data"
    },
    {
     "name": "stderr",
     "output_type": "stream",
     "text": [
      "No. de obs.:\n"
     ]
    },
    {
     "data": {
      "text/html": [
       "26063"
      ],
      "text/latex": [
       "26063"
      ],
      "text/markdown": [
       "26063"
      ],
      "text/plain": [
       "[1] 26063"
      ]
     },
     "metadata": {},
     "output_type": "display_data"
    }
   ],
   "source": [
    "df<-na.omit(df) # Excluimos os valores na\n",
    "table(is.na(df))\n",
    "message(\"No. de obs.:\")\n",
    "nrow(df) # Antes era 26217 "
   ]
  },
  {
   "cell_type": "code",
   "execution_count": 7,
   "metadata": {
    "slideshow": {
     "slide_type": "slide"
    }
   },
   "outputs": [
    {
     "data": {
      "text/plain": [
       "     dvcat           weight            dead          airbag        seatbelt    \n",
       " 1-9km/h:  676   Min.   :    0.00   alive:24883   airbag:14336   belted:18465  \n",
       " 10-24  :12766   1st Qu.:   32.38   dead : 1180   none  :11727   none  : 7598  \n",
       " 25-39  : 8165   Median :   86.99                                              \n",
       " 40-54  : 2965   Mean   :  462.48                                              \n",
       " 55+    : 1491   3rd Qu.:  363.35                                              \n",
       "                 Max.   :57871.59                                              \n",
       "    frontal       sex          ageOFocc        yearacc        yearVeh    \n",
       " Min.   :0.0000   f:12178   Min.   :16.00   Min.   :1997   Min.   :1953  \n",
       " 1st Qu.:0.0000   m:13885   1st Qu.:22.00   1st Qu.:1998   1st Qu.:1989  \n",
       " Median :1.0000             Median :33.00   Median :2000   Median :1994  \n",
       " Mean   :0.6436             Mean   :37.22   Mean   :2000   Mean   :1993  \n",
       " 3rd Qu.:1.0000             3rd Qu.:48.00   3rd Qu.:2001   3rd Qu.:1997  \n",
       " Max.   :1.0000             Max.   :97.00   Max.   :2002   Max.   :2003  \n",
       "      abcat         occRole          deploy        injSeverity   \n",
       " deploy  : 8799   driver:20541   Min.   :0.0000   Min.   :0.000  \n",
       " nodeploy: 5537   pass  : 5522   1st Qu.:0.0000   1st Qu.:1.000  \n",
       " unavail :11727                  Median :0.0000   Median :2.000  \n",
       "                                 Mean   :0.3376   Mean   :1.716  \n",
       "                                 3rd Qu.:1.0000   3rd Qu.:3.000  \n",
       "                                 Max.   :1.0000   Max.   :6.000  "
      ]
     },
     "metadata": {},
     "output_type": "display_data"
    }
   ],
   "source": []
  },
  {
   "cell_type": "markdown",
   "metadata": {
    "collapsed": true,
    "slideshow": {
     "slide_type": "slide"
    }
   },
   "source": [
    " Buscamos investigar os fatores que influenciam nos casos de morte, e na gravidade dos ferimentos. Por exemplo a relacao entre airbag e cinto de seguranca e a gravidade dos ferimentos da vitima. \n"
   ]
  }
 ],
 "metadata": {
  "celltoolbar": "Slideshow",
  "kernelspec": {
   "display_name": "R",
   "language": "R",
   "name": "ir"
  },
  "language_info": {
   "codemirror_mode": "r",
   "file_extension": ".r",
   "mimetype": "text/x-r-source",
   "name": "R",
   "pygments_lexer": "r",
   "version": "3.4.1"
  }
 },
 "nbformat": 4,
 "nbformat_minor": 2
}
