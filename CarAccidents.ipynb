{
 "cells": [
  {
   "cell_type": "markdown",
   "metadata": {
    "slideshow": {
     "slide_type": "slide"
    }
   },
   "source": [
    "# Airbags e outras influências em acidentes fatais \n",
    "   ### por Arthur Um, Lucas Lai, e Fernando Chiu\n"
   ]
  },
  {
   "cell_type": "markdown",
   "metadata": {
    "slideshow": {
     "slide_type": "skip"
    }
   },
   "source": [
    "<p style=\"font-family: Times New Roman; font-size:18px;\">I am big</p>\n"
   ]
  },
  {
   "cell_type": "markdown",
   "metadata": {
    "slideshow": {
     "slide_type": "slide"
    }
   },
   "source": [
    "Fonte: National Highway Traffic Safety Administration - uma agência do poder executivo do governo dos EUA, parte do Departamento de Transporte. \n",
    "   - NASSCDS - National Automotive Sampling System e o seu Crashworthiness Data System\n",
    "     - casos selecionados a partir de relatórios de acidentes(batidas) de carro da polícia \n",
    "     - melhorias no design de veículos"
   ]
  },
  {
   "cell_type": "markdown",
   "metadata": {
    "slideshow": {
     "slide_type": "slide"
    }
   },
   "source": [
    "‌‌‌‌‌‌‌‌‌‌‌‌‌‌‌‌‌‌‌‌‌‌‌‌‌\n",
    "‌‌‌‌‌‌‌‌‌‌‌‌‌‌‌‌‌‌‌‌‌‌‌‌‌\n",
    "Dados de 1997-2002 sobre acidentes de carro nos EUA em quais ocorreram algum evento prejudicial às vítimas ou suas propriedades, e em que pelo menos um dos veículos envolvidos teve que ser tirado a guincho. A coleção de dados foi realizada através de um esquema de amostragem multiestágio: a população foi dividida em grupos(clusters) e aleatoriamente selecionadas em etapas posteriores. Os dados estão limitados a apenas os passageiros que sentaram nos bancos dianteiros do carro, entre outras limitações.  \n"
   ]
  },
  {
   "cell_type": "code",
   "execution_count": 1,
   "metadata": {
    "slideshow": {
     "slide_type": "skip"
    }
   },
   "outputs": [],
   "source": [
    "library(ggplot2)\n",
    "library(gmodels)\n",
    "library(rpivotTable)\n",
    "options(warn=-1)"
   ]
  },
  {
   "cell_type": "code",
   "execution_count": 2,
   "metadata": {
    "scrolled": true,
    "slideshow": {
     "slide_type": "slide"
    }
   },
   "outputs": [
    {
     "name": "stdout",
     "output_type": "stream",
     "text": [
      "'data.frame':\t26217 obs. of  16 variables:\n",
      " $ X          : int  1 2 3 4 5 6 7 8 9 10 ...\n",
      " $ dvcat      : Factor w/ 5 levels \"1-9km/h\",\"10-24\",..: 3 2 2 3 3 4 5 5 2 2 ...\n",
      " $ weight     : num  25.1 25.1 32.4 495.4 25.1 ...\n",
      " $ dead       : Factor w/ 2 levels \"alive\",\"dead\": 1 1 1 1 1 1 1 2 1 1 ...\n",
      " $ airbag     : Factor w/ 2 levels \"airbag\",\"none\": 2 1 2 1 2 2 2 2 2 2 ...\n",
      " $ seatbelt   : Factor w/ 2 levels \"belted\",\"none\": 1 1 2 1 1 1 1 2 1 1 ...\n",
      " $ frontal    : int  1 1 1 1 1 1 1 1 0 1 ...\n",
      " $ sex        : Factor w/ 2 levels \"f\",\"m\": 1 1 1 1 1 1 2 2 2 1 ...\n",
      " $ ageOFocc   : int  26 72 69 53 32 22 22 32 40 18 ...\n",
      " $ yearacc    : int  1997 1997 1997 1997 1997 1997 1997 1997 1997 1997 ...\n",
      " $ yearVeh    : int  1990 1995 1988 1995 1988 1985 1984 1987 1984 1987 ...\n",
      " $ abcat      : Factor w/ 3 levels \"deploy\",\"nodeploy\",..: 3 1 3 1 3 3 3 3 3 3 ...\n",
      " $ occRole    : Factor w/ 2 levels \"driver\",\"pass\": 1 1 1 1 1 1 1 1 1 1 ...\n",
      " $ deploy     : int  0 1 0 1 0 0 0 0 0 0 ...\n",
      " $ injSeverity: int  3 1 4 1 3 3 3 4 1 0 ...\n",
      " $ caseid     : Factor w/ 9409 levels \"11:1:1\",\"11:1:2\",..: 1645 1646 1688 1488 1510 1511 1555 1556 1571 1572 ...\n"
     ]
    }
   ],
   "source": [
    "df<-read.csv(\"Car accidents.csv\")\n",
    "str(df)"
   ]
  },
  {
   "cell_type": "code",
   "execution_count": 3,
   "metadata": {
    "collapsed": true,
    "slideshow": {
     "slide_type": "fragment"
    }
   },
   "outputs": [],
   "source": [
    "df$X <- NULL #inutil\n",
    "df$caseid<-NULL  #inutil\n",
    "df$dvcat<- as.character(df$dvcat)\n",
    "df$dvcat[df$dvcat == \"1-9km/h\"] <- \"1-9\"\n",
    "df$dvcat <- as.factor(df$dvcat)"
   ]
  },
  {
   "cell_type": "markdown",
   "metadata": {
    "slideshow": {
     "slide_type": "slide"
    }
   },
   "source": [
    " _dvcat_ - velocidade do impacto estimado (1-9, 10-24, 25-39, 40-54, e 55+ em km/h). **Quantitativa Ordinal**"
   ]
  },
  {
   "cell_type": "code",
   "execution_count": 4,
   "metadata": {
    "scrolled": true,
    "slideshow": {
     "slide_type": "fragment"
    }
   },
   "outputs": [
    {
     "data": {},
     "metadata": {},
     "output_type": "display_data"
    },
    {
     "data": {
      "image/png": "[encoded data removed]",
      "text/plain": [
       "plot without title"
      ]
     },
     "metadata": {},
     "output_type": "display_data"
    }
   ],
   "source": [
    "ggplot(df,aes(dvcat)) + geom_histogram(stat=\"count\",fill=\"#4286f4\")"
   ]
  },
  {
   "cell_type": "markdown",
   "metadata": {
    "slideshow": {
     "slide_type": "slide"
    }
   },
   "source": [
    "_dead_ - se a vítima observada faleceu ou não (alive, dead). **Qualitativa Dicotômica**"
   ]
  },
  {
   "cell_type": "code",
   "execution_count": 5,
   "metadata": {
    "slideshow": {
     "slide_type": "fragment"
    }
   },
   "outputs": [
    {
     "data": {
      "text/plain": [
       "\n",
       "alive  dead \n",
       "25037  1180 "
      ]
     },
     "metadata": {},
     "output_type": "display_data"
    }
   ],
   "source": [
    "table(df$dead)\n"
   ]
  },
  {
   "cell_type": "code",
   "execution_count": 6,
   "metadata": {
    "scrolled": true,
    "slideshow": {
     "slide_type": "fragment"
    }
   },
   "outputs": [
    {
     "data": {},
     "metadata": {},
     "output_type": "display_data"
    },
    {
     "data": {
      "image/png": "[encoded data removed]",
      "text/plain": [
       "plot without title"
      ]
     },
     "metadata": {},
     "output_type": "display_data"
    }
   ],
   "source": [
    "ggplot(df,aes(dead)) + geom_histogram(stat=\"count\",fill=\"#4286f4\")"
   ]
  },
  {
   "cell_type": "markdown",
   "metadata": {},
   "source": [
    "_seatbelt_ - se a vítima observada estava com cinto ou não (belted, none). **Qualitativa Dicotômica**\n",
    "\n",
    "_frontal_ - se o impacto da observação foi frontal ou não (numérico;  0 = não frontal, 1 = frontal). **Qualitativa Dicotômica**\n",
    "\n",
    "_occRole_ - papel do ocupante da observação (driver,pass - motorista ou passageiro). **Qualitativa Dicotômica** "
   ]
  },
  {
   "cell_type": "code",
   "execution_count": 7,
   "metadata": {
    "scrolled": false,
    "slideshow": {
     "slide_type": "fragment"
    }
   },
   "outputs": [
    {
     "data": {
      "text/plain": [
       "\n",
       "belted   none \n",
       " 18573   7644 "
      ]
     },
     "metadata": {},
     "output_type": "display_data"
    },
    {
     "data": {
      "text/plain": [
       "\n",
       "    0     1 \n",
       " 9351 16866 "
      ]
     },
     "metadata": {},
     "output_type": "display_data"
    },
    {
     "data": {
      "text/plain": [
       "\n",
       "driver   pass \n",
       " 20601   5616 "
      ]
     },
     "metadata": {},
     "output_type": "display_data"
    }
   ],
   "source": [
    "table(df$seatbelt)\n",
    "table(df$frontal)\n",
    "table(df$occRole)"
   ]
  },
  {
   "cell_type": "markdown",
   "metadata": {
    "slideshow": {
     "slide_type": "slide"
    }
   },
   "source": [
    "_abcat_ - um ou mais airbags foram ativados(seja motorista ou passageiro)? (deploy, nodeploy, unavail). **Qualitativa Nominal**"
   ]
  },
  {
   "cell_type": "code",
   "execution_count": 8,
   "metadata": {
    "slideshow": {
     "slide_type": "fragment"
    }
   },
   "outputs": [
    {
     "data": {},
     "metadata": {},
     "output_type": "display_data"
    },
    {
     "data": {
      "image/png": "[encoded data removed]",
      "text/plain": [
       "plot without title"
      ]
     },
     "metadata": {},
     "output_type": "display_data"
    }
   ],
   "source": [
    "ggplot(df,aes(abcat)) + geom_histogram(stat=\"count\",fill=\"#ff68b1\") "
   ]
  },
  {
   "cell_type": "markdown",
   "metadata": {
    "slideshow": {
     "slide_type": "slide"
    }
   },
   "source": [
    "_injSeverity_ - severidade do ferimento da vítima observada, numérico. **Qualitativa Ordinal**\n",
    " - 0: nenhum \n",
    " - 1: possivelmente ferido \n",
    " - 2: sem incapacitação\n",
    " - 3: incapacitado \n",
    " - 4: morto \n",
    " - 5: desconhecido\n",
    " - 6: morte anterior (ao acidente). "
   ]
  },
  {
   "cell_type": "code",
   "execution_count": 9,
   "metadata": {
    "slideshow": {
     "slide_type": "subslide"
    }
   },
   "outputs": [
    {
     "data": {},
     "metadata": {},
     "output_type": "display_data"
    },
    {
     "data": {
      "image/png": "[encoded data removed]",
      "text/plain": [
       "plot without title"
      ]
     },
     "metadata": {},
     "output_type": "display_data"
    }
   ],
   "source": [
    "names <- c(\"no injury\",\"possible inj.\",\"no incapacity\",\"incapacitated\",\"killed\",\"unknown\",\"prior death\")\n",
    "ggplot(df,aes(injSeverity)) + geom_histogram(stat=\"count\",fill=\"#f72a8d\") +xlab(\"Severidade do Ferimento\")+ ylab(\"No. de Vitimas\") + scale_x_continuous(labels = names,breaks=c(0,1,2,3,4,5,6))"
   ]
  },
  {
   "cell_type": "markdown",
   "metadata": {
    "slideshow": {
     "slide_type": "slide"
    }
   },
   "source": [
    "_weight_ - os pesos das observações, porém com incerteza na precisão dos mesmos. **Quantitativa Contínua**\n",
    "\n",
    " _airbag_ - se o veículo observado possuía airbag ou não (none, airbag). **Qualitativa Dicotômica** \n",
    "\n",
    "_sex_ - sexo da vítima observada (f,m). **Qualitativa Dicotômica**\n",
    "\n",
    "_yearacc_ - ano em que o acidente ocorreu. **Quantitativa Discreta**\n",
    "\n",
    "_yearVeh_ - ano do modelo do carro. **Quantitativa Contínua**\n",
    "\n",
    "_deploy_ - mesmo que abcat, porém numérico (0 caso não houve airbag, 1 caso houve). **Qualitativa Dicotômica** "
   ]
  },
  {
   "cell_type": "code",
   "execution_count": 10,
   "metadata": {
    "collapsed": true,
    "slideshow": {
     "slide_type": "skip"
    }
   },
   "outputs": [],
   "source": [
    "trivialdf<-df\n",
    "trivialdf$dvcat<-NULL\n",
    "trivialdf$seatbelt<-NULL\n",
    "trivialdf$frontal<-NULL\n",
    "trivialdf$dead<-NULL\n",
    "trivialdf$ageOFocc<-NULL\n",
    "trivialdf$abcat<-NULL\n",
    "trivialdf$occRole<-NULL\n",
    "trivialdf$injSeverity<-NULL"
   ]
  },
  {
   "cell_type": "code",
   "execution_count": 11,
   "metadata": {
    "scrolled": true,
    "slideshow": {
     "slide_type": "subslide"
    }
   },
   "outputs": [
    {
     "data": {
      "text/html": [
       "<table>\n",
       "<thead><tr><th></th><th scope=col>    weight</th><th scope=col>   airbag</th><th scope=col>sex</th><th scope=col>   yearacc</th><th scope=col>   yearVeh</th><th scope=col>    deploy</th></tr></thead>\n",
       "<tbody>\n",
       "\t<tr><th scope=row></th><td>Min.   :    0.00  </td><td>airbag:14419      </td><td>f:12248           </td><td>Min.   :1997      </td><td>Min.   :1953      </td><td>Min.   :0.000     </td></tr>\n",
       "\t<tr><th scope=row></th><td>1st Qu.:   32.47  </td><td>none  :11798      </td><td>m:13969           </td><td>1st Qu.:1998      </td><td>1st Qu.:1989      </td><td>1st Qu.:0.000     </td></tr>\n",
       "\t<tr><th scope=row></th><td>Median :   86.99  </td><td>NA                </td><td>NA                </td><td>Median :2000      </td><td>Median :1994      </td><td>Median :0.000     </td></tr>\n",
       "\t<tr><th scope=row></th><td>Mean   :  462.81  </td><td>NA                </td><td>NA                </td><td>Mean   :2000      </td><td>Mean   :1993      </td><td>Mean   :0.337     </td></tr>\n",
       "\t<tr><th scope=row></th><td>3rd Qu.:  364.72  </td><td>NA                </td><td>NA                </td><td>3rd Qu.:2001      </td><td>3rd Qu.:1997      </td><td>3rd Qu.:1.000     </td></tr>\n",
       "\t<tr><th scope=row></th><td>Max.   :57871.59  </td><td>NA                </td><td>NA                </td><td>Max.   :2002      </td><td>Max.   :2003      </td><td>Max.   :1.000     </td></tr>\n",
       "</tbody>\n",
       "</table>\n"
      ],
      "text/latex": [
       "\\begin{tabular}{r|llllll}\n",
       "  &     weight &    airbag & sex &    yearacc &    yearVeh &     deploy\\\\\n",
       "\\hline\n",
       "\t & Min.   :    0.00   & airbag:14419       & f:12248            & Min.   :1997       & Min.   :1953       & Min.   :0.000     \\\\\n",
       "\t & 1st Qu.:   32.47   & none  :11798       & m:13969            & 1st Qu.:1998       & 1st Qu.:1989       & 1st Qu.:0.000     \\\\\n",
       "\t & Median :   86.99   & NA                 & NA                 & Median :2000       & Median :1994       & Median :0.000     \\\\\n",
       "\t & Mean   :  462.81   & NA                 & NA                 & Mean   :2000       & Mean   :1993       & Mean   :0.337     \\\\\n",
       "\t & 3rd Qu.:  364.72   & NA                 & NA                 & 3rd Qu.:2001       & 3rd Qu.:1997       & 3rd Qu.:1.000     \\\\\n",
       "\t & Max.   :57871.59   & NA                 & NA                 & Max.   :2002       & Max.   :2003       & Max.   :1.000     \\\\\n",
       "\\end{tabular}\n"
      ],
      "text/markdown": [
       "\n",
       "| <!--/--> |     weight |    airbag | sex |    yearacc |    yearVeh |     deploy | \n",
       "|---|---|---|---|---|---|\n",
       "|  | Min.   :    0.00   | airbag:14419       | f:12248            | Min.   :1997       | Min.   :1953       | Min.   :0.000      | \n",
       "|  | 1st Qu.:   32.47   | none  :11798       | m:13969            | 1st Qu.:1998       | 1st Qu.:1989       | 1st Qu.:0.000      | \n",
       "|  | Median :   86.99   | NA                 | NA                 | Median :2000       | Median :1994       | Median :0.000      | \n",
       "|  | Mean   :  462.81   | NA                 | NA                 | Mean   :2000       | Mean   :1993       | Mean   :0.337      | \n",
       "|  | 3rd Qu.:  364.72   | NA                 | NA                 | 3rd Qu.:2001       | 3rd Qu.:1997       | 3rd Qu.:1.000      | \n",
       "|  | Max.   :57871.59   | NA                 | NA                 | Max.   :2002       | Max.   :2003       | Max.   :1.000      | \n",
       "\n",
       "\n"
      ],
      "text/plain": [
       "     weight            airbag      sex          yearacc        yearVeh    \n",
       " Min.   :    0.00   airbag:14419   f:12248   Min.   :1997   Min.   :1953  \n",
       " 1st Qu.:   32.47   none  :11798   m:13969   1st Qu.:1998   1st Qu.:1989  \n",
       " Median :   86.99   NA             NA        Median :2000   Median :1994  \n",
       " Mean   :  462.81   NA             NA        Mean   :2000   Mean   :1993  \n",
       " 3rd Qu.:  364.72   NA             NA        3rd Qu.:2001   3rd Qu.:1997  \n",
       " Max.   :57871.59   NA             NA        Max.   :2002   Max.   :2003  \n",
       "     deploy     \n",
       " Min.   :0.000  \n",
       " 1st Qu.:0.000  \n",
       " Median :0.000  \n",
       " Mean   :0.337  \n",
       " 3rd Qu.:1.000  \n",
       " Max.   :1.000  "
      ]
     },
     "metadata": {},
     "output_type": "display_data"
    }
   ],
   "source": [
    "aux<-as.matrix(unclass(summary(trivialdf)))\n",
    "aux<- aux[-7,]\n",
    "aux"
   ]
  },
  {
   "cell_type": "code",
   "execution_count": 12,
   "metadata": {
    "slideshow": {
     "slide_type": "subslide"
    }
   },
   "outputs": [
    {
     "data": {},
     "metadata": {},
     "output_type": "display_data"
    },
    {
     "data": {
      "image/png": "[encoded data removed]",
      "text/plain": [
       "plot without title"
      ]
     },
     "metadata": {},
     "output_type": "display_data"
    }
   ],
   "source": [
    "ggplot(df,aes(yearVeh)) +geom_histogram(stat=\"count\",fill=\"turquoise\")"
   ]
  },
  {
   "cell_type": "code",
   "execution_count": 13,
   "metadata": {
    "slideshow": {
     "slide_type": "skip"
    }
   },
   "outputs": [
    {
     "name": "stdout",
     "output_type": "stream",
     "text": [
      "\n",
      " \n",
      "   Cell Contents\n",
      "|-------------------------|\n",
      "|                       N |\n",
      "| Chi-square contribution |\n",
      "|           N / Row Total |\n",
      "|           N / Col Total |\n",
      "|         N / Table Total |\n",
      "|-------------------------|\n",
      "\n",
      " \n",
      "Total Observations in Table:  26217 \n",
      "\n",
      " \n",
      "             | df$dead \n",
      "    df$dvcat |     alive |      dead | Row Total | \n",
      "-------------|-----------|-----------|-----------|\n",
      "         1-9 |       683 |         3 |       686 | \n",
      "             |     1.186 |    25.168 |           | \n",
      "             |     0.996 |     0.004 |     0.026 | \n",
      "             |     0.027 |     0.003 |           | \n",
      "             |     0.026 |     0.000 |           | \n",
      "-------------|-----------|-----------|-----------|\n",
      "       10-24 |     12734 |       114 |     12848 | \n",
      "             |    17.568 |   372.749 |           | \n",
      "             |     0.991 |     0.009 |     0.490 | \n",
      "             |     0.509 |     0.097 |           | \n",
      "             |     0.486 |     0.004 |           | \n",
      "-------------|-----------|-----------|-----------|\n",
      "       25-39 |      7910 |       304 |      8214 | \n",
      "             |     0.550 |    11.677 |           | \n",
      "             |     0.963 |     0.037 |     0.313 | \n",
      "             |     0.316 |     0.258 |           | \n",
      "             |     0.302 |     0.012 |           | \n",
      "-------------|-----------|-----------|-----------|\n",
      "       40-54 |      2633 |       344 |      2977 | \n",
      "             |    15.513 |   329.151 |           | \n",
      "             |     0.884 |     0.116 |     0.114 | \n",
      "             |     0.105 |     0.292 |           | \n",
      "             |     0.100 |     0.013 |           | \n",
      "-------------|-----------|-----------|-----------|\n",
      "         55+ |      1077 |       415 |      1492 | \n",
      "             |    84.920 |  1801.805 |           | \n",
      "             |     0.722 |     0.278 |     0.057 | \n",
      "             |     0.043 |     0.352 |           | \n",
      "             |     0.041 |     0.016 |           | \n",
      "-------------|-----------|-----------|-----------|\n",
      "Column Total |     25037 |      1180 |     26217 | \n",
      "             |     0.955 |     0.045 |           | \n",
      "-------------|-----------|-----------|-----------|\n",
      "\n",
      " \n"
     ]
    }
   ],
   "source": [
    "dvdead=CrossTable(df$dvcat,df$dead)$t"
   ]
  },
  {
   "cell_type": "code",
   "execution_count": 14,
   "metadata": {
    "slideshow": {
     "slide_type": "slide"
    }
   },
   "outputs": [
    {
     "data": {
      "text/html": [
       "<table>\n",
       "<thead><tr><th></th><th scope=col>alive</th><th scope=col>dead</th><th scope=col>dvcat</th><th scope=col>deadPercentage</th></tr></thead>\n",
       "<tbody>\n",
       "\t<tr><th scope=row>1-9</th><td>  683      </td><td>  3        </td><td>1-9km/h    </td><td>0.002542373</td></tr>\n",
       "\t<tr><th scope=row>10-24</th><td>12734      </td><td>114        </td><td>10-24      </td><td>0.096610169</td></tr>\n",
       "\t<tr><th scope=row>25-39</th><td> 7910      </td><td>304        </td><td>25-39      </td><td>0.257627119</td></tr>\n",
       "\t<tr><th scope=row>40-54</th><td> 2633      </td><td>344        </td><td>40-54      </td><td>0.291525424</td></tr>\n",
       "\t<tr><th scope=row>55+</th><td> 1077      </td><td>415        </td><td>55+        </td><td>0.351694915</td></tr>\n",
       "</tbody>\n",
       "</table>\n"
      ],
      "text/latex": [
       "\\begin{tabular}{r|llll}\n",
       "  & alive & dead & dvcat & deadPercentage\\\\\n",
       "\\hline\n",
       "\t1-9 &   683       &   3         & 1-9km/h     & 0.002542373\\\\\n",
       "\t10-24 & 12734       & 114         & 10-24       & 0.096610169\\\\\n",
       "\t25-39 &  7910       & 304         & 25-39       & 0.257627119\\\\\n",
       "\t40-54 &  2633       & 344         & 40-54       & 0.291525424\\\\\n",
       "\t55+ &  1077       & 415         & 55+         & 0.351694915\\\\\n",
       "\\end{tabular}\n"
      ],
      "text/markdown": [
       "\n",
       "| <!--/--> | alive | dead | dvcat | deadPercentage | \n",
       "|---|---|---|---|---|\n",
       "| 1-9 |   683       |   3         | 1-9km/h     | 0.002542373 | \n",
       "| 10-24 | 12734       | 114         | 10-24       | 0.096610169 | \n",
       "| 25-39 |  7910       | 304         | 25-39       | 0.257627119 | \n",
       "| 40-54 |  2633       | 344         | 40-54       | 0.291525424 | \n",
       "| 55+ |  1077       | 415         | 55+         | 0.351694915 | \n",
       "\n",
       "\n"
      ],
      "text/plain": [
       "      alive dead dvcat   deadPercentage\n",
       "1-9     683   3  1-9km/h 0.002542373   \n",
       "10-24 12734 114  10-24   0.096610169   \n",
       "25-39  7910 304  25-39   0.257627119   \n",
       "40-54  2633 344  40-54   0.291525424   \n",
       "55+    1077 415  55+     0.351694915   "
      ]
     },
     "metadata": {},
     "output_type": "display_data"
    }
   ],
   "source": [
    "#dvdead=CrossTable(df$dvcat,df$dead)$t#\n",
    "dvdead<-as.data.frame.matrix(dvdead)\n",
    "dvdead[,3]<-c(\"1-9km/h\",\"10-24\",\"25-39\",\"40-54\",\"55+\")\n",
    "colnames(dvdead)[3]<-\"dvcat\"\n",
    "deadperc<-dvdead[,2]/1180\n",
    "dvdead[,4]<-deadperc\n",
    "colnames(dvdead)[4]<-\"deadPercentage\"\n",
    "dvdead"
   ]
  },
  {
   "cell_type": "code",
   "execution_count": 15,
   "metadata": {
    "scrolled": true,
    "slideshow": {
     "slide_type": "subslide"
    }
   },
   "outputs": [
    {
     "data": {},
     "metadata": {},
     "output_type": "display_data"
    },
    {
     "data": {
      "image/png": "[encoded data removed]",
      "text/plain": [
       "plot without title"
      ]
     },
     "metadata": {},
     "output_type": "display_data"
    }
   ],
   "source": [
    "ggplot(dvdead,aes(dvcat)) + geom_bar(stat=\"identity\",aes(y=dead, color=\"death toll\"),fill=\"#fc6000\")"
   ]
  },
  {
   "cell_type": "code",
   "execution_count": 16,
   "metadata": {
    "scrolled": true,
    "slideshow": {
     "slide_type": "subslide"
    }
   },
   "outputs": [
    {
     "data": {},
     "metadata": {},
     "output_type": "display_data"
    },
    {
     "data": {
      "image/png": "[encoded data removed]",
      "text/plain": [
       "plot without title"
      ]
     },
     "metadata": {},
     "output_type": "display_data"
    }
   ],
   "source": [
    "ggplot(dvdead,aes(dvcat)) + geom_line(aes(y=deadPercentage,color=\"%\"),group=1)"
   ]
  },
  {
   "cell_type": "code",
   "execution_count": 17,
   "metadata": {
    "slideshow": {
     "slide_type": "slide"
    }
   },
   "outputs": [
    {
     "name": "stderr",
     "output_type": "stream",
     "text": [
      "Rows : dead, Cols: dvcat and seatbelt\n"
     ]
    }
   ],
   "source": [
    "message(\"Rows : dead, Cols: dvcat and seatbelt\")\n",
    "dvseat <- rpivotTable(df,row=\"dead\",col=c(\"dvcat\",\"seatbelt\"),rendererName=\"Row Heatmap\")"
   ]
  },
  {
   "cell_type": "markdown",
   "metadata": {
    "slideshow": {
     "slide_type": "fragment"
    }
   },
   "source": [
    "<img src=\"UniversalCaptureNB.jpg\">"
   ]
  },
  {
   "cell_type": "code",
   "execution_count": 18,
   "metadata": {
    "slideshow": {
     "slide_type": "slide"
    }
   },
   "outputs": [
    {
     "data": {},
     "metadata": {},
     "output_type": "display_data"
    },
    {
     "data": {
      "image/png": "[encoded data removed]",
      "text/plain": [
       "plot without title"
      ]
     },
     "metadata": {},
     "output_type": "display_data"
    }
   ],
   "source": [
    "occab<-table(df$abcat,df$occRole)\n",
    "occab[,1]<-occab[,1]/20541\n",
    "occab[,2]<-occab[,2]/5522\n",
    "occab<-as.data.frame.matrix(occab)\n",
    "occab[,3]<-c(\"deploy\",\"nodeploy\",\"unavail\")\n",
    "colnames(occab)[3]<-\"abcat\"\n",
    "ggplot(occab,aes(abcat)) + geom_bar(stat=\"identity\",aes(y=driver,colour=\"driver\"),fill=\"pink\")+geom_line(aes(y=pass,colour=\"passenger\"),group=1) +ggtitle(\"Occupant Role x Airbag Deployment\")"
   ]
  },
  {
   "cell_type": "code",
   "execution_count": 19,
   "metadata": {
    "slideshow": {
     "slide_type": "slide"
    }
   },
   "outputs": [
    {
     "data": {},
     "metadata": {},
     "output_type": "display_data"
    },
    {
     "data": {
      "image/png": "[encoded data removed]",
      "text/plain": [
       "plot without title"
      ]
     },
     "metadata": {},
     "output_type": "display_data"
    }
   ],
   "source": [
    "ctt<-table(df$injSeverity,df$abcat)\n",
    "ctt<-as.data.frame.matrix(ctt)\n",
    "ctt[,ncol(ctt)+1] <- names\n",
    "colnames(ctt)[ncol(ctt)]<- \"injureSeverity\"\n",
    "ctt$injureSeverity <-factor(ctt$injureSeverity,levels = ctt$injureSeverity)\n",
    "ctt[,1] <-ctt[,1]/8836 # no. de deployed\n",
    "ctt[,2] <-ctt[,2]/5583 # no. de nodeploy\n",
    "ggplot(ctt,aes(x=reorder(injureSeverity,injureSeverity)))+geom_bar(stat=\"identity\",aes(y=deploy,colour=\"airbag\"),fill=\"#9b4c3f\")+geom_line(aes(y=nodeploy,colour=\"no airbag\"),group=1) +xlab(\"Injure Severity\") +ggtitle(\"Airbag Deployment x Injure Severity\") "
   ]
  },
  {
   "cell_type": "code",
   "execution_count": 20,
   "metadata": {
    "slideshow": {
     "slide_type": "slide"
    }
   },
   "outputs": [
    {
     "data": {},
     "metadata": {},
     "output_type": "display_data"
    },
    {
     "data": {
      "image/png": "[encoded data removed]",
      "text/plain": [
       "plot without title"
      ]
     },
     "metadata": {},
     "output_type": "display_data"
    }
   ],
   "source": [
    "seatinj<-table(df$injSeverity,df$seatbelt)\n",
    "seatinj<-as.data.frame.matrix(seatinj)\n",
    "seatinj[,3] <- names\n",
    "colnames(seatinj)[ncol(seatinj)]<- \"injureSeverity\"\n",
    "seatinj$injureSeverity <-factor(seatinj$injureSeverity,levels = seatinj$injureSeverity)\n",
    "seatinj[,1] <-seatinj[,1]/18465\n",
    "seatinj[,2] <-seatinj[,2]/7598\n",
    "ggplot(seatinj,aes(x=reorder(injureSeverity,injureSeverity)))+geom_bar(stat=\"identity\",aes(y=belted,colour=\"belted\"),fill=\"#ffc70f\")+geom_line(aes(y=none,colour=\"no belt\"),group=1)+scale_color_manual(values=c(\"white\",\"black\")) +xlab(\"Injure Severity\") +ggtitle(\"Seatbelt x Injure Severity\") \n"
   ]
  },
  {
   "cell_type": "markdown",
   "metadata": {
    "slideshow": {
     "slide_type": "skip"
    }
   },
   "source": [
    "- X - numeração das observações\n",
    "- dvcat - velocidade do impacto estimado (1-9km/h, 10-24, 25-39, 40-54, 55+). **Quantitativa Discreta** \n",
    "- weight - os pesos das observações, porém com incerteza na precisão dos mesmos. **Quantitativa Contínua**\n",
    "- dead - se a vítima observada faleceu ou não (alive, dead). **Qualitativa Dicotômica**\n",
    "- airbag - se o veículo observado possuía airbag ou não (none, airbag). **Qualitativa Dicotômica**\n",
    "- seatbelt - se a vítima observada estava com cinto ou não (none, belted). **Qualitativa Dicotômica**\n",
    "- frontal - se o impacto da observação foi frontal ou não (numérico;  0 = não frontal, 1=frontal). **Qualitativa Dicotômica**\n",
    "- sex - sexo da vítima observada (f,m). **Qualitativa Dicotômica**\n",
    "- ageOFocc - idade do ocupante da observação em anos. **Quantitativa Contínua** \n",
    "- yearacc - ano em que o acidente ocorreu. **Quantitativa Discreta**\n",
    "- yearVeh - ano do modelo do carro. **Quantitativa Contínua**\n",
    "- abcat - um ou mais airbags foram ativados(seja motorista ou passageiro)? (deploy, nodeploy, unavail). **Qualitativa Nominal**\n",
    "- occRole - papel do ocupante da observação (driver,pass - motorista ou passageiro). **Qualitativa Dicotômica** \n",
    "- deploy - mesmo que abcat, porém numérico (0 caso não houve airbag, 1 caso houve). **Qualitativa Dicotômica** \n",
    "- injSeverity - severidade do ferimento da vítima observada, numérico; 0:nenhum, 1:possivelmente ferido, 2:incapacitação, 3:incapacitado, 4:morto; 5: desconhecido, 6:morte precedente **Qualitativa Ordinal**\n",
    "- caseid - tipo: character; populations sampling unit + case number + vehicle number. Podemos utilizá-lo para identificar o veículo como único em cada ano. \n"
   ]
  },
  {
   "cell_type": "code",
   "execution_count": 38,
   "metadata": {
    "slideshow": {
     "slide_type": "slide"
    }
   },
   "outputs": [
    {
     "data": {
      "text/html": [
       "<table>\n",
       "<tbody>\n",
       "\t<tr><th scope=row>dvcat</th><td>  0</td></tr>\n",
       "\t<tr><th scope=row>weight</th><td>  0</td></tr>\n",
       "\t<tr><th scope=row>dead</th><td>  0</td></tr>\n",
       "\t<tr><th scope=row>airbag</th><td>  0</td></tr>\n",
       "\t<tr><th scope=row>seatbelt</th><td>  0</td></tr>\n",
       "\t<tr><th scope=row>frontal</th><td>  0</td></tr>\n",
       "\t<tr><th scope=row>sex</th><td>  0</td></tr>\n",
       "\t<tr><th scope=row>ageOFocc</th><td>  0</td></tr>\n",
       "\t<tr><th scope=row>yearacc</th><td>  0</td></tr>\n",
       "\t<tr><th scope=row>yearVeh</th><td>  1</td></tr>\n",
       "\t<tr><th scope=row>abcat</th><td>  0</td></tr>\n",
       "\t<tr><th scope=row>occRole</th><td>  0</td></tr>\n",
       "\t<tr><th scope=row>deploy</th><td>  0</td></tr>\n",
       "\t<tr><th scope=row>injSeverity</th><td>153</td></tr>\n",
       "</tbody>\n",
       "</table>\n"
      ],
      "text/latex": [
       "\\begin{tabular}{r|l}\n",
       "\tdvcat &   0\\\\\n",
       "\tweight &   0\\\\\n",
       "\tdead &   0\\\\\n",
       "\tairbag &   0\\\\\n",
       "\tseatbelt &   0\\\\\n",
       "\tfrontal &   0\\\\\n",
       "\tsex &   0\\\\\n",
       "\tageOFocc &   0\\\\\n",
       "\tyearacc &   0\\\\\n",
       "\tyearVeh &   1\\\\\n",
       "\tabcat &   0\\\\\n",
       "\toccRole &   0\\\\\n",
       "\tdeploy &   0\\\\\n",
       "\tinjSeverity & 153\\\\\n",
       "\\end{tabular}\n"
      ],
      "text/markdown": [
       "\n",
       "| dvcat |   0 | \n",
       "| weight |   0 | \n",
       "| dead |   0 | \n",
       "| airbag |   0 | \n",
       "| seatbelt |   0 | \n",
       "| frontal |   0 | \n",
       "| sex |   0 | \n",
       "| ageOFocc |   0 | \n",
       "| yearacc |   0 | \n",
       "| yearVeh |   1 | \n",
       "| abcat |   0 | \n",
       "| occRole |   0 | \n",
       "| deploy |   0 | \n",
       "| injSeverity | 153 | \n",
       "\n",
       "\n"
      ],
      "text/plain": [
       "            [,1]\n",
       "dvcat         0 \n",
       "weight        0 \n",
       "dead          0 \n",
       "airbag        0 \n",
       "seatbelt      0 \n",
       "frontal       0 \n",
       "sex           0 \n",
       "ageOFocc      0 \n",
       "yearacc       0 \n",
       "yearVeh       1 \n",
       "abcat         0 \n",
       "occRole       0 \n",
       "deploy        0 \n",
       "injSeverity 153 "
      ]
     },
     "metadata": {},
     "output_type": "display_data"
    }
   ],
   "source": [
    "# Contamos o no. de na values em cada coluna\n",
    "as.matrix(colSums(is.na(df)))"
   ]
  },
  {
   "cell_type": "code",
   "execution_count": 4,
   "metadata": {
    "slideshow": {
     "slide_type": "slide"
    }
   },
   "outputs": [
    {
     "data": {
      "text/plain": [
       "\n",
       " FALSE   TRUE \n",
       "366884    154 "
      ]
     },
     "metadata": {},
     "output_type": "display_data"
    },
    {
     "data": {
      "text/plain": [
       "\n",
       " FALSE \n",
       "364882 "
      ]
     },
     "metadata": {},
     "output_type": "display_data"
    },
    {
     "name": "stderr",
     "output_type": "stream",
     "text": [
      "No. de obs.:\n"
     ]
    },
    {
     "data": {
      "text/html": [
       "26063"
      ],
      "text/latex": [
       "26063"
      ],
      "text/markdown": [
       "26063"
      ],
      "text/plain": [
       "[1] 26063"
      ]
     },
     "metadata": {},
     "output_type": "display_data"
    }
   ],
   "source": [
    "table(is.na(df))\n",
    "df<-na.omit(df) # Excluimos os valores na\n",
    "table(is.na(df))\n",
    "message(\"No. de obs.:\")\n",
    "nrow(df) # Antes era 26217 "
   ]
  }
 ],
 "metadata": {
  "celltoolbar": "Slideshow",
  "kernelspec": {
   "display_name": "R",
   "language": "R",
   "name": "ir"
  },
  "language_info": {
   "codemirror_mode": "r",
   "file_extension": ".r",
   "mimetype": "text/x-r-source",
   "name": "R",
   "pygments_lexer": "r",
   "version": "3.4.1"
  }
 },
 "nbformat": 4,
 "nbformat_minor": 2
}
