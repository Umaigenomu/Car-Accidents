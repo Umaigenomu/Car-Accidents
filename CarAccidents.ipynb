{
 "cells": [
  {
   "cell_type": "markdown",
   "metadata": {
    "slideshow": {
     "slide_type": "slide"
    }
   },
   "source": [
    "# Sengoku Nadeko < 3"
   ]
  },
  {
   "cell_type": "markdown",
   "metadata": {
    "slideshow": {
     "slide_type": "slide"
    }
   },
   "source": [
    "$$\\left(-\\frac{b}{2a} , c - \\frac{b^2}{4a} \\right)$$ "
   ]
  },
  {
   "cell_type": "code",
   "execution_count": 1,
   "metadata": {
    "slideshow": {
     "slide_type": "slide"
    }
   },
   "outputs": [
    {
     "name": "stdout",
     "output_type": "stream",
     "text": [
      "'data.frame':\t26217 obs. of  16 variables:\n",
      " $ X          : int  1 2 3 4 5 6 7 8 9 10 ...\n",
      " $ dvcat      : Factor w/ 5 levels \"1-9km/h\",\"10-24\",..: 3 2 2 3 3 4 5 5 2 2 ...\n",
      " $ weight     : num  25.1 25.1 32.4 495.4 25.1 ...\n",
      " $ dead       : Factor w/ 2 levels \"alive\",\"dead\": 1 1 1 1 1 1 1 2 1 1 ...\n",
      " $ airbag     : Factor w/ 2 levels \"airbag\",\"none\": 2 1 2 1 2 2 2 2 2 2 ...\n",
      " $ seatbelt   : Factor w/ 2 levels \"belted\",\"none\": 1 1 2 1 1 1 1 2 1 1 ...\n",
      " $ frontal    : int  1 1 1 1 1 1 1 1 0 1 ...\n",
      " $ sex        : Factor w/ 2 levels \"f\",\"m\": 1 1 1 1 1 1 2 2 2 1 ...\n",
      " $ ageOFocc   : int  26 72 69 53 32 22 22 32 40 18 ...\n",
      " $ yearacc    : int  1997 1997 1997 1997 1997 1997 1997 1997 1997 1997 ...\n",
      " $ yearVeh    : int  1990 1995 1988 1995 1988 1985 1984 1987 1984 1987 ...\n",
      " $ abcat      : Factor w/ 3 levels \"deploy\",\"nodeploy\",..: 3 1 3 1 3 3 3 3 3 3 ...\n",
      " $ occRole    : Factor w/ 2 levels \"driver\",\"pass\": 1 1 1 1 1 1 1 1 1 1 ...\n",
      " $ deploy     : int  0 1 0 1 0 0 0 0 0 0 ...\n",
      " $ injSeverity: int  3 1 4 1 3 3 3 4 1 0 ...\n",
      " $ caseid     : Factor w/ 9409 levels \"11:1:1\",\"11:1:2\",..: 1645 1646 1688 1488 1510 1511 1555 1556 1571 1572 ...\n"
     ]
    }
   ],
   "source": [
    "df<-read.csv(\"Car accidents.csv\")\n",
    "str(df)"
   ]
  },
  {
   "cell_type": "code",
   "execution_count": 2,
   "metadata": {
    "slideshow": {
     "slide_type": "slide"
    }
   },
   "outputs": [
    {
     "data": {
      "text/plain": [
       "       X             dvcat           weight            dead      \n",
       " Min.   :    1   1-9km/h:  686   Min.   :    0.00   alive:25037  \n",
       " 1st Qu.: 6555   10-24  :12848   1st Qu.:   32.47   dead : 1180  \n",
       " Median :13109   25-39  : 8214   Median :   86.99                \n",
       " Mean   :13109   40-54  : 2977   Mean   :  462.81                \n",
       " 3rd Qu.:19663   55+    : 1492   3rd Qu.:  364.72                \n",
       " Max.   :26217                   Max.   :57871.59                \n",
       "                                                                 \n",
       "    airbag        seatbelt        frontal       sex          ageOFocc    \n",
       " airbag:14419   belted:18573   Min.   :0.0000   f:12248   Min.   :16.00  \n",
       " none  :11798   none  : 7644   1st Qu.:0.0000   m:13969   1st Qu.:22.00  \n",
       "                               Median :1.0000             Median :33.00  \n",
       "                               Mean   :0.6433             Mean   :37.21  \n",
       "                               3rd Qu.:1.0000             3rd Qu.:48.00  \n",
       "                               Max.   :1.0000             Max.   :97.00  \n",
       "                                                                         \n",
       "    yearacc        yearVeh          abcat         occRole          deploy     \n",
       " Min.   :1997   Min.   :1953   deploy  : 8836   driver:20601   Min.   :0.000  \n",
       " 1st Qu.:1998   1st Qu.:1989   nodeploy: 5583   pass  : 5616   1st Qu.:0.000  \n",
       " Median :2000   Median :1994   unavail :11798                  Median :0.000  \n",
       " Mean   :2000   Mean   :1993                                   Mean   :0.337  \n",
       " 3rd Qu.:2001   3rd Qu.:1997                                   3rd Qu.:1.000  \n",
       " Max.   :2002   Max.   :2003                                   Max.   :1.000  \n",
       "                NA's   :1                                                     \n",
       "  injSeverity         caseid     \n",
       " Min.   :0.000   13:157:1:   11  \n",
       " 1st Qu.:1.000   11:131:1:   10  \n",
       " Median :2.000   2:94:1  :   10  \n",
       " Mean   :1.716   12:50:1 :    9  \n",
       " 3rd Qu.:3.000   41:49:1 :    9  \n",
       " Max.   :6.000   43:169:1:    9  \n",
       " NA's   :153     (Other) :26159  "
      ]
     },
     "metadata": {},
     "output_type": "display_data"
    }
   ],
   "source": [
    "summary(df)"
   ]
  },
  {
   "cell_type": "code",
   "execution_count": 3,
   "metadata": {
    "slideshow": {
     "slide_type": "skip"
    }
   },
   "outputs": [
    {
     "name": "stdout",
     "output_type": "stream",
     "text": [
      "\n",
      " \n",
      "   Cell Contents\n",
      "|-------------------------|\n",
      "|                       N |\n",
      "| Chi-square contribution |\n",
      "|           N / Row Total |\n",
      "|           N / Col Total |\n",
      "|         N / Table Total |\n",
      "|-------------------------|\n",
      "\n",
      " \n",
      "Total Observations in Table:  26064 \n",
      "\n",
      " \n",
      "               | df$airbag \n",
      "df$injSeverity |    airbag |      none | Row Total | \n",
      "---------------|-----------|-----------|-----------|\n",
      "             0 |      3772 |      2707 |      6479 | \n",
      "               |    12.151 |    14.856 |           | \n",
      "               |     0.582 |     0.418 |     0.249 | \n",
      "               |     0.263 |     0.231 |           | \n",
      "               |     0.145 |     0.104 |           | \n",
      "---------------|-----------|-----------|-----------|\n",
      "             1 |      3333 |      2262 |      5595 | \n",
      "               |    21.189 |    25.904 |           | \n",
      "               |     0.596 |     0.404 |     0.215 | \n",
      "               |     0.232 |     0.193 |           | \n",
      "               |     0.128 |     0.087 |           | \n",
      "---------------|-----------|-----------|-----------|\n",
      "             2 |      2383 |      1859 |      4242 | \n",
      "               |     1.055 |     1.289 |           | \n",
      "               |     0.562 |     0.438 |     0.163 | \n",
      "               |     0.166 |     0.159 |           | \n",
      "               |     0.091 |     0.071 |           | \n",
      "---------------|-----------|-----------|-----------|\n",
      "             3 |      4296 |      4199 |      8495 | \n",
      "               |    30.390 |    37.153 |           | \n",
      "               |     0.506 |     0.494 |     0.326 | \n",
      "               |     0.300 |     0.358 |           | \n",
      "               |     0.165 |     0.161 |           | \n",
      "---------------|-----------|-----------|-----------|\n",
      "             4 |       477 |       641 |      1118 | \n",
      "               |    30.957 |    37.847 |           | \n",
      "               |     0.427 |     0.573 |     0.043 | \n",
      "               |     0.033 |     0.055 |           | \n",
      "               |     0.018 |     0.025 |           | \n",
      "---------------|-----------|-----------|-----------|\n",
      "             5 |        74 |        59 |       133 | \n",
      "               |     0.010 |     0.012 |           | \n",
      "               |     0.556 |     0.444 |     0.005 | \n",
      "               |     0.005 |     0.005 |           | \n",
      "               |     0.003 |     0.002 |           | \n",
      "---------------|-----------|-----------|-----------|\n",
      "             6 |         2 |         0 |         2 | \n",
      "               |     0.736 |     0.900 |           | \n",
      "               |     1.000 |     0.000 |     0.000 | \n",
      "               |     0.000 |     0.000 |           | \n",
      "               |     0.000 |     0.000 |           | \n",
      "---------------|-----------|-----------|-----------|\n",
      "  Column Total |     14337 |     11727 |     26064 | \n",
      "               |     0.550 |     0.450 |           | \n",
      "---------------|-----------|-----------|-----------|\n",
      "\n",
      " \n"
     ]
    }
   ],
   "source": [
    "library(gmodels)\n",
    "ctt<-CrossTable(df$injSeverity,df$airbag)$t\n",
    "ctt<-as.data.frame.matrix(ctt)\n",
    "library(ggplot2)"
   ]
  },
  {
   "cell_type": "code",
   "execution_count": 4,
   "metadata": {
    "collapsed": true,
    "slideshow": {
     "slide_type": "subslide"
    }
   },
   "outputs": [],
   "source": [
    "options(warn=-1)\n",
    "ctt[,ncol(ctt)+1] <- c(\"no injury\",\"possible inj.\",\"no incapacity\",\"incapacitated\",\"killed\",\"uknown\",\"prior death\")\n",
    "colnames(ctt)[3]<- \"injureSeverity\"\n",
    "ctt$injureSeverity <-factor(ctt$injureSeverity,levels = ctt$injureSeverity)"
   ]
  },
  {
   "cell_type": "code",
   "execution_count": 5,
   "metadata": {
    "slideshow": {
     "slide_type": "slide"
    }
   },
   "outputs": [
    {
     "data": {},
     "metadata": {},
     "output_type": "display_data"
    },
    {
     "data": {
      "image/png": "[encoded data removed]",
      "text/plain": [
       "plot without title"
      ]
     },
     "metadata": {},
     "output_type": "display_data"
    }
   ],
   "source": [
    "ggplot(ctt,aes(x=reorder(injureSeverity,injureSeverity)))+geom_bar(stat=\"identity\",aes(y=airbag,colour=\"airbag\"))+geom_line(aes(y=none,colour=\"no airbag\"),group=1) +xlab(\"Injure Severity\")+theme(axis.text.x = element_text(angle = 90, vjust = 0.5, color = \"navy\"))"
   ]
  }
 ],
 "metadata": {
  "celltoolbar": "Slideshow",
  "kernelspec": {
   "display_name": "R",
   "language": "R",
   "name": "ir"
  },
  "language_info": {
   "codemirror_mode": "r",
   "file_extension": ".r",
   "mimetype": "text/x-r-source",
   "name": "R",
   "pygments_lexer": "r",
   "version": "3.4.1"
  },
  "widgets": {
   "application/vnd.jupyter.widget-state+json": {
    "state": {},
    "version_major": 1,
    "version_minor": 0
   }
  }
 },
 "nbformat": 4,
 "nbformat_minor": 2
}
