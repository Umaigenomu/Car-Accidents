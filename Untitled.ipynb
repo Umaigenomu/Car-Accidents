{
 "cells": [
  {
   "cell_type": "code",
   "execution_count": 2,
   "metadata": {
    "collapsed": true,
    "slideshow": {
     "slide_type": "fragment"
    }
   },
   "outputs": [],
   "source": [
    "df<-read.csv(\"C:/Users/Arthur Duram Um/Programming/R/Car accidents.csv\")"
   ]
  },
  {
   "cell_type": "markdown",
   "metadata": {},
   "source": []
  },
  {
   "cell_type": "markdown",
   "metadata": {},
   "source": [
    "$\\left(-\\frac{b}{2a} , c - \\frac{b^2}{4a} \\right)$"
   ]
  },
  {
   "cell_type": "code",
   "execution_count": 4,
   "metadata": {
    "scrolled": true,
    "slideshow": {
     "slide_type": "slide"
    }
   },
   "outputs": [
    {
     "name": "stdout",
     "output_type": "stream",
     "text": [
      "'data.frame':\t26217 obs. of  16 variables:\n",
      " $ X          : int  1 2 3 4 5 6 7 8 9 10 ...\n",
      " $ dvcat      : Factor w/ 5 levels \"1-9km/h\",\"10-24\",..: 3 2 2 3 3 4 5 5 2 2 ...\n",
      " $ weight     : num  25.1 25.1 32.4 495.4 25.1 ...\n",
      " $ dead       : Factor w/ 2 levels \"alive\",\"dead\": 1 1 1 1 1 1 1 2 1 1 ...\n",
      " $ airbag     : Factor w/ 2 levels \"airbag\",\"none\": 2 1 2 1 2 2 2 2 2 2 ...\n",
      " $ seatbelt   : Factor w/ 2 levels \"belted\",\"none\": 1 1 2 1 1 1 1 2 1 1 ...\n",
      " $ frontal    : int  1 1 1 1 1 1 1 1 0 1 ...\n",
      " $ sex        : Factor w/ 2 levels \"f\",\"m\": 1 1 1 1 1 1 2 2 2 1 ...\n",
      " $ ageOFocc   : int  26 72 69 53 32 22 22 32 40 18 ...\n",
      " $ yearacc    : int  1997 1997 1997 1997 1997 1997 1997 1997 1997 1997 ...\n",
      " $ yearVeh    : int  1990 1995 1988 1995 1988 1985 1984 1987 1984 1987 ...\n",
      " $ abcat      : Factor w/ 3 levels \"deploy\",\"nodeploy\",..: 3 1 3 1 3 3 3 3 3 3 ...\n",
      " $ occRole    : Factor w/ 2 levels \"driver\",\"pass\": 1 1 1 1 1 1 1 1 1 1 ...\n",
      " $ deploy     : int  0 1 0 1 0 0 0 0 0 0 ...\n",
      " $ injSeverity: int  3 1 4 1 3 3 3 4 1 0 ...\n",
      " $ caseid     : Factor w/ 9409 levels \"11:1:1\",\"11:1:2\",..: 1645 1646 1688 1488 1510 1511 1555 1556 1571 1572 ...\n"
     ]
    }
   ],
   "source": [
    "str(df)"
   ]
  },
  {
   "cell_type": "code",
   "execution_count": 5,
   "metadata": {},
   "outputs": [
    {
     "data": {
      "text/plain": [
       "       X             dvcat           weight            dead      \n",
       " Min.   :    1   1-9km/h:  686   Min.   :    0.00   alive:25037  \n",
       " 1st Qu.: 6555   10-24  :12848   1st Qu.:   32.47   dead : 1180  \n",
       " Median :13109   25-39  : 8214   Median :   86.99                \n",
       " Mean   :13109   40-54  : 2977   Mean   :  462.81                \n",
       " 3rd Qu.:19663   55+    : 1492   3rd Qu.:  364.72                \n",
       " Max.   :26217                   Max.   :57871.59                \n",
       "                                                                 \n",
       "    airbag        seatbelt        frontal       sex          ageOFocc    \n",
       " airbag:14419   belted:18573   Min.   :0.0000   f:12248   Min.   :16.00  \n",
       " none  :11798   none  : 7644   1st Qu.:0.0000   m:13969   1st Qu.:22.00  \n",
       "                               Median :1.0000             Median :33.00  \n",
       "                               Mean   :0.6433             Mean   :37.21  \n",
       "                               3rd Qu.:1.0000             3rd Qu.:48.00  \n",
       "                               Max.   :1.0000             Max.   :97.00  \n",
       "                                                                         \n",
       "    yearacc        yearVeh          abcat         occRole          deploy     \n",
       " Min.   :1997   Min.   :1953   deploy  : 8836   driver:20601   Min.   :0.000  \n",
       " 1st Qu.:1998   1st Qu.:1989   nodeploy: 5583   pass  : 5616   1st Qu.:0.000  \n",
       " Median :2000   Median :1994   unavail :11798                  Median :0.000  \n",
       " Mean   :2000   Mean   :1993                                   Mean   :0.337  \n",
       " 3rd Qu.:2001   3rd Qu.:1997                                   3rd Qu.:1.000  \n",
       " Max.   :2002   Max.   :2003                                   Max.   :1.000  \n",
       "                NA's   :1                                                     \n",
       "  injSeverity         caseid     \n",
       " Min.   :0.000   13:157:1:   11  \n",
       " 1st Qu.:1.000   11:131:1:   10  \n",
       " Median :2.000   2:94:1  :   10  \n",
       " Mean   :1.716   12:50:1 :    9  \n",
       " 3rd Qu.:3.000   41:49:1 :    9  \n",
       " Max.   :6.000   43:169:1:    9  \n",
       " NA's   :153     (Other) :26159  "
      ]
     },
     "metadata": {},
     "output_type": "display_data"
    }
   ],
   "source": [
    "summary(df)"
   ]
  },
  {
   "cell_type": "code",
   "execution_count": null,
   "metadata": {
    "collapsed": true
   },
   "outputs": [],
   "source": []
  }
 ],
 "metadata": {
  "celltoolbar": "Slideshow",
  "kernelspec": {
   "display_name": "R",
   "language": "R",
   "name": "ir"
  },
  "language_info": {
   "codemirror_mode": "r",
   "file_extension": ".r",
   "mimetype": "text/x-r-source",
   "name": "R",
   "pygments_lexer": "r",
   "version": "3.4.1"
  }
 },
 "nbformat": 4,
 "nbformat_minor": 2
}
